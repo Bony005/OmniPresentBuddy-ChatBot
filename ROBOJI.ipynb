{
  "nbformat": 4,
  "nbformat_minor": 0,
  "metadata": {
    "colab": {
      "name": "ROBOJI.ipynb",
      "provenance": []
    },
    "kernelspec": {
      "name": "python3",
      "display_name": "Python 3"
    }
  },
  "cells": [
    {
      "cell_type": "code",
      "metadata": {
        "colab": {
          "base_uri": "https://localhost:8080/"
        },
        "id": "8H0aDxLJoV3_",
        "outputId": "fa7106c2-60ad-4488-c319-0ae7d705f03c"
      },
      "source": [
        "#Meet Robo: your friend\r\n",
        "\r\n",
        "#import necessary libraries\r\n",
        "import io # dealing with various types of I/O\r\n",
        "import random #to generate random values in a given sequence\r\n",
        "import string # to process standard python strings\r\n",
        "import warnings #useful to alert the user of some condition\r\n",
        "import numpy as np\r\n",
        "from sklearn.feature_extraction.text import TfidfVectorizer\r\n",
        "from sklearn.metrics.pairwise import cosine_similarity\r\n",
        "warnings.filterwarnings('ignore')\r\n",
        "\r\n",
        "import nltk\r\n",
        "from nltk.stem import WordNetLemmatizer\r\n",
        "nltk.download('popular', quiet=True) # for downloading packages\r\n",
        "\r\n",
        "# uncomment the following only the first time\r\n",
        "#nltk.download('punkt') # first-time use only\r\n",
        "#nltk.download('wordnet') # first-time use only\r\n",
        "\r\n",
        "\r\n",
        "#Reading in the corpus\r\n",
        "with open('/content/coronanewinfo.txt','r', encoding='utf8', errors ='ignore') as fin:\r\n",
        "    raw = fin.read().lower()\r\n",
        "\r\n",
        "#Tokenisation\r\n",
        "sent_tokens = nltk.sent_tokenize(raw)# converts to list of sentences \r\n",
        "word_tokens = nltk.word_tokenize(raw)# converts to list of words\r\n",
        "\r\n",
        "# Preprocessing\r\n",
        "lemmer = WordNetLemmatizer()\r\n",
        "def LemTokens(tokens):\r\n",
        "    return [lemmer.lemmatize(token) for token in tokens]\r\n",
        "remove_punct_dict = dict((ord(punct), None) for punct in string.punctuation)\r\n",
        "def LemNormalize(text):\r\n",
        "    return LemTokens(nltk.word_tokenize(text.lower().translate(remove_punct_dict)))\r\n",
        "\r\n",
        "\r\n",
        "# Keyword Matching\r\n",
        "GREETING_INPUTS = (\"hello\", \"hi\", \"greetings\", \"sup\", \"what's up\",\"hey\",)\r\n",
        "GREETING_RESPONSES = [\"hi\", \"hey\", \"*nods*\", \"hi there\", \"hello\", \"I am glad! You are talking to me\"]\r\n",
        "\r\n",
        "def greeting(sentence):\r\n",
        "    \"\"\"If user's input is a greeting, return a greeting response\"\"\"\r\n",
        "    for word in sentence.split():\r\n",
        "        if word.lower() in GREETING_INPUTS:\r\n",
        "            return random.choice(GREETING_RESPONSES)\r\n",
        "\r\n",
        "\r\n",
        "# Generating response\r\n",
        "def response(user_response):\r\n",
        "    robo_response=''\r\n",
        "    sent_tokens.append(user_response)\r\n",
        "    TfidfVec = TfidfVectorizer(tokenizer=LemNormalize, stop_words='english')\r\n",
        "    tfidf = TfidfVec.fit_transform(sent_tokens)\r\n",
        "    vals = cosine_similarity(tfidf[-1], tfidf)\r\n",
        "    idx=vals.argsort()[0][-2]\r\n",
        "    flat = vals.flatten()\r\n",
        "    flat.sort()\r\n",
        "    req_tfidf = flat[-2]\r\n",
        "    if(req_tfidf==0):\r\n",
        "        robo_response=robo_response+\"I am sorry! I don't understand you\"\r\n",
        "        return robo_response\r\n",
        "    else:\r\n",
        "        robo_response = robo_response+sent_tokens[idx]\r\n",
        "        return robo_response\r\n",
        "\r\n",
        "\r\n",
        "flag=True\r\n",
        "print(\"ROBO: My name is Robo. I will answer your queries about coronavirus. If you want to exit, type Bye!\")\r\n",
        "while(flag==True):\r\n",
        "    user_response = input()\r\n",
        "    user_response=user_response.lower()\r\n",
        "    if(user_response!='bye'):\r\n",
        "        if(user_response=='thanks' or user_response=='thank you' ):\r\n",
        "            flag=False\r\n",
        "            print(\"ROBO: You are welcome..\")\r\n",
        "        else:\r\n",
        "            if(greeting(user_response)!=None):\r\n",
        "                print(\"ROBO: \"+greeting(user_response))\r\n",
        "            else:\r\n",
        "                print(\"ROBO: \",end=\"\")\r\n",
        "                print(response(user_response))\r\n",
        "                sent_tokens.remove(user_response)\r\n",
        "    else:\r\n",
        "        flag=False\r\n",
        "        print(\"ROBO: Bye! take care..\")    "
      ],
      "execution_count": 10,
      "outputs": [
        {
          "output_type": "stream",
          "text": [
            "ROBO: My name is Robo. I will answer your queries about coronavirus. If you want to exit, type Bye!\n",
            "hi\n",
            "ROBO: *nods*\n",
            "bye\n",
            "ROBO: Bye! take care..\n"
          ],
          "name": "stdout"
        }
      ]
    },
    {
      "cell_type": "code",
      "metadata": {
        "id": "QnLQQUcAtvN4"
      },
      "source": [
        ""
      ],
      "execution_count": null,
      "outputs": []
    }
  ]
}